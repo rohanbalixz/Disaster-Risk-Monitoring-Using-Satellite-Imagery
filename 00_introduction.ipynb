{
 "cells": [
  {
   "cell_type": "markdown",
   "metadata": {},
   "source": [
    "<a href=\"https://www.nvidia.com/dli\"> <img src=\"images/combined_logo.png\" alt=\"Header\" style=\"width: 400px;\"/> </a>"
   ]
  },
  {
   "cell_type": "markdown",
   "metadata": {},
   "source": [
    "# Disaster Risk Monitoring Using Satellite Imagery #"
   ]
  },
  {
   "cell_type": "markdown",
   "metadata": {},
   "source": [
    "## 00 - Introduction ##\n",
    "Welcome to the NVIDIA DLI _Disaster Risk Monitoring Using Satellite Imagery_ lab. In this lab, you will learn how to build and deploy a flood detection segmentation model using data collected from Sentinel-1 satellites. In order to achieve this, we will use NVIDIA's _DALI_, _TAO Toolkit_, _TensorRT_, and _Triton Inference Server_. "
   ]
  },
  {
   "cell_type": "markdown",
   "metadata": {},
   "source": [
    "**Learning Objectives**\n",
    "<br>\n",
    "In this course, you will learn important concepts about using satellite imagery to develop deep learning-based disaster risk monitoring systems, including: \n",
    "* The Application of Computer Vision for Disaster Risk Monitoring\n",
    "* Manipulation of Data Collected by Earth Observation Satellites \n",
    "* Ways to Efficiently Process Large Imagery Data\n",
    "* Deep Learning Model Development Challenges\n",
    "* End-to-End Machine Learning Workflow\n",
    "\n",
    "**Table of Contents**\n",
    "<br>\n",
    "This lab is broken down into four parts. In the first part, our focus is primarily on learning how to process large satellite images. In the second part of the lab, we will learn to efficiently train a segmentation model. Next, we will deploy the model in the third part of the lab. In the last part of the lab, we will utilize the deep learning model to perform an impact analysis. This hands-on lab will provide opportunities to get familiar with each step in the development workflow and to enable customizations that are most appropriate for your own use cases. \n",
    "1. Disaster Risk Monitoring Systems and Data Pre-processing\n",
    "2. Efficient Model Training\n",
    "3. Model Deployment for Inference\n",
    "4. UNOSAT Flood Event Case Study"
   ]
  },
  {
   "cell_type": "markdown",
   "metadata": {},
   "source": [
    "### JupyterLab ###\n",
    "For this hands-on lab, we use [JupyterLab](https://jupyterlab.readthedocs.io/en/stable/) to manage our environment.  The [JupyterLab Interface](https://jupyterlab.readthedocs.io/en/stable/user/interface.html) is a dashboard that provides access to interactive iPython notebooks, as well as the folder structure of our environment and a terminal window into the Ubuntu operating system. The first view you will see includes a **menu bar** at the top, a **file browser** in the **left sidebar**, and a **main work area** that is initially open to this \"introduction\" notebook. \n",
    "<p><img src=\"images/jl_launcher.png\"></p>\n",
    "\n",
    "* The file browser can be navigated just like any other file explorer. A double click on any of the items will open a new tab with its content. \n",
    "* The main work area includes tabbed views of open files that can be closed, moved, and edited as needed. \n",
    "* The notebooks, including this one, consist of a series of content and code **cells**. To execute code in a code cell, press `Shift+Enter` or the `Run` button in the menu bar above, while a cell is highlighted. Sometimes, a content cell will get switched to editing mode. Executing the cell with `Shift+Enter` or the `Run` button will switch it back to a readable form.\n",
    "* To interrupt cell execution, click the `Stop` button in the menu bar or navigate to the `Kernel` menu, and select `Interrupt Kernel`. \n",
    "* We can use terminal commands in the notebook cells by prepending an exclamation point/bang(`!`) to the beginning of the command. "
   ]
  },
  {
   "cell_type": "markdown",
   "metadata": {},
   "source": [
    "<a name='e1'></a>\n",
    "#### Exercise #1 - Practice ####\n",
    "Try executing the simple print statement in the cell below."
   ]
  },
  {
   "cell_type": "code",
   "execution_count": 1,
   "metadata": {},
   "outputs": [
    {
     "name": "stdout",
     "output_type": "stream",
     "text": [
      "This is just a simple print statement\n"
     ]
    }
   ],
   "source": [
    "# activate this cell by selecting it with the mouse or arrow keys then use the keyboard shortcut [Shift+Enter] to execute\n",
    "print('This is just a simple print statement')"
   ]
  },
  {
   "cell_type": "markdown",
   "metadata": {},
   "source": [
    "Now try executing the terminal command in the cell below."
   ]
  },
  {
   "cell_type": "code",
   "execution_count": 2,
   "metadata": {},
   "outputs": [
    {
     "name": "stdout",
     "output_type": "stream",
     "text": [
      "This is another simple print statement\n"
     ]
    }
   ],
   "source": [
    "# activate this cell by selecting it with the mouse or arrow keys then use the keyboard shortcut [Shift+Enter] to execute\n",
    "!echo 'This is another simple print statement'"
   ]
  },
  {
   "cell_type": "markdown",
   "metadata": {},
   "source": [
    "### NVIDIA GPU Cloud ###\n",
    "This lab requires that the user have an NVIDIA GPU Cloud (NGC) account and API key.  If you have not done so already, please: \n",
    "1. [Register and activate a free NGC account](https://docs.nvidia.com/ngc/ngc-overview/index.html#registering-activating-ngc-account)\n",
    "2. [Generate your NGC API key](https://docs.nvidia.com/ngc/ngc-overview/index.html#generating-api-key) and save it in a safe location"
   ]
  },
  {
   "cell_type": "markdown",
   "metadata": {},
   "source": [
    "<a name='e2'></a>\n",
    "#### Exercise #2 - NGC CLI and Docker Registry ####\n",
    "\n",
    "**Instructions**: <br>\n",
    "* Edit the cell below by replacing `<MY_NGC_API_KEY>` with your key and execute the cell to set the variable. \n",
    "* Execute the cell below to create a configuration file for NGC. \n",
    "* Execute the cell below to move the newly created config file to `.ngc` to configure the NGC CLI. \n",
    "* Execute the cell below to log in to NGC's Docker registry.\n",
    "* Execute the cell below to pull the TAO container images."
   ]
  },
  {
   "cell_type": "code",
   "execution_count": 3,
   "metadata": {},
   "outputs": [],
   "source": [
    "apikey='ZmcwM3IxYXRqaThpdmZibWI1a2k4cjkwc2k6MDJjZGIyMDctY2FiMS00MTYyLWI4YzAtNzI1YmVmZDZhODli'"
   ]
  },
  {
   "cell_type": "code",
   "execution_count": 4,
   "metadata": {},
   "outputs": [
    {
     "name": "stdout",
     "output_type": "stream",
     "text": [
      ";WARNING - This is a machine generated file.  Do not edit manually.\n",
      ";WARNING - To update local config settings, see \"ngc config set -h\"\n",
      "\n",
      "[CURRENT]\n",
      "apikey=ZmcwM3IxYXRqaThpdmZibWI1a2k4cjkwc2k6MDJjZGIyMDctY2FiMS00MTYyLWI4YzAtNzI1YmVmZDZhODli\n",
      "format_type=json\n",
      "org=nvidia\n"
     ]
    }
   ],
   "source": [
    "# write the config file\n",
    "config_dict={'apikey': apikey, 'format_type': 'json', 'org': 'nvidia'}\n",
    "with open('config', 'w') as f: \n",
    "    f.write(';WARNING - This is a machine generated file.  Do not edit manually.\\n')\n",
    "    f.write(';WARNING - To update local config settings, see \"ngc config set -h\"\\n')\n",
    "    f.write('\\n[CURRENT]\\n')\n",
    "    for k, v in config_dict.items(): \n",
    "        f.write(k+'='+v+'\\n')\n",
    "\n",
    "# preview the config file\n",
    "!cat config"
   ]
  },
  {
   "cell_type": "code",
   "execution_count": 5,
   "metadata": {},
   "outputs": [],
   "source": [
    "# move the config file to ~/.ngc\n",
    "!mkdir -p ~/.ngc & mv config ~/.ngc/"
   ]
  },
  {
   "cell_type": "code",
   "execution_count": 6,
   "metadata": {},
   "outputs": [
    {
     "name": "stdout",
     "output_type": "stream",
     "text": [
      "WARNING! Using --password via the CLI is insecure. Use --password-stdin.\n",
      "WARNING! Your password will be stored unencrypted in /root/.docker/config.json.\n",
      "Configure a credential helper to remove this warning. See\n",
      "https://docs.docker.com/engine/reference/commandline/login/#credentials-store\n",
      "\n",
      "Login Succeeded\n"
     ]
    }
   ],
   "source": [
    "# login to NGC's docker registry\n",
    "!docker login -u '$oauthtoken' -p $apikey nvcr.io"
   ]
  },
  {
   "cell_type": "code",
   "execution_count": 7,
   "metadata": {
    "scrolled": true
   },
   "outputs": [
    {
     "name": "stdout",
     "output_type": "stream",
     "text": [
      "5.0.0-tf1.15.5: Pulling from nvidia/tao/tao-toolkit\n",
      "\n",
      "\u001b[1B715873ec: Pulling fs layer \n",
      "\u001b[1B5fe751be: Pulling fs layer \n",
      "\u001b[1Bc9e56778: Pulling fs layer \n",
      "\u001b[1B9c08065c: Pulling fs layer \n",
      "\u001b[1B129e9daa: Pulling fs layer \n",
      "\u001b[1Bddf5daef: Pulling fs layer \n",
      "\u001b[1Bb1e8d85a: Pulling fs layer \n",
      "\u001b[1Bbd04fbf5: Pulling fs layer \n",
      "\u001b[1B0bd8cf35: Pulling fs layer \n",
      "\u001b[1B15e856a0: Pulling fs layer \n",
      "\u001b[1B618a5cab: Pulling fs layer \n",
      "\u001b[1Bc8820090: Pulling fs layer \n",
      "\u001b[1B305027fa: Pulling fs layer \n",
      "\u001b[1Bb700ef54: Pulling fs layer \n",
      "\u001b[1B36ff9510: Pulling fs layer \n",
      "\u001b[1Bbcc98e9c: Pulling fs layer \n",
      "\u001b[1B98675d88: Pulling fs layer \n",
      "\u001b[1B41639381: Pulling fs layer \n",
      "\u001b[1Baa1cb86b: Pulling fs layer \n",
      "\u001b[1Bdc4c1852: Pulling fs layer \n",
      "\u001b[1B84394baa: Pulling fs layer \n",
      "\u001b[1B5c59bbac: Pulling fs layer \n",
      "\u001b[1Bcf598fa6: Pulling fs layer \n",
      "\u001b[1B2d620b14: Pulling fs layer \n",
      "\u001b[1Bad30cb0b: Pulling fs layer \n",
      "\u001b[1B503756df: Pulling fs layer \n",
      "\u001b[1Bab4d6cbe: Pulling fs layer \n",
      "\u001b[1B3f79fc24: Pulling fs layer \n",
      "\u001b[1B458e2746: Pulling fs layer \n",
      "\u001b[1Bdd98ec7a: Pulling fs layer \n",
      "\u001b[1B3121b2fc: Pulling fs layer \n",
      "\u001b[1B98142162: Pulling fs layer \n",
      "\u001b[1B3d1811c0: Pulling fs layer \n",
      "\u001b[1B53e2569a: Pulling fs layer \n",
      "\u001b[1Bf537cb30: Pulling fs layer \n",
      "\u001b[1Be1dea4e4: Pulling fs layer \n",
      "\u001b[1B9e1c91b0: Pulling fs layer \n",
      "\u001b[1B79362c8d: Pulling fs layer \n",
      "\u001b[1B9f8f97e9: Pulling fs layer \n",
      "\u001b[1Bdfc31c10: Pulling fs layer \n",
      "\u001b[1Bf93c9498: Pulling fs layer \n",
      "\u001b[1B6729df60: Pulling fs layer \n",
      "\u001b[1B65685bf1: Pulling fs layer \n",
      "\u001b[1B9717478f: Pulling fs layer \n",
      "\u001b[1B801f61d3: Pulling fs layer \n",
      "\u001b[1B630d4b5d: Pulling fs layer \n",
      "\u001b[1Be911a055: Pulling fs layer \n",
      "\u001b[1B226efd4a: Pulling fs layer \n",
      "\u001b[1Bff3781dd: Pulling fs layer \n",
      "\u001b[1B66699937: Pulling fs layer \n",
      "\u001b[1B0d5d34c1: Pulling fs layer \n",
      "\u001b[1B9538553a: Pulling fs layer \n",
      "\u001b[1Bc6a61569: Pulling fs layer \n",
      "\u001b[1B3f075792: Pulling fs layer \n",
      "\u001b[1B9587088c: Pulling fs layer \n",
      "\u001b[1B44640000: Pulling fs layer \n",
      "\u001b[1B7f48f102: Pulling fs layer \n",
      "\u001b[1B1b48cfef: Pulling fs layer \n",
      "\u001b[1Bb5ef13ee: Pulling fs layer \n",
      "\u001b[1B3ff61f07: Pulling fs layer \n",
      "\u001b[1Bac7d66df: Pulling fs layer \n",
      "\u001b[1B9e1da3b4: Pulling fs layer \n",
      "\u001b[1B6b6d858e: Pulling fs layer \n",
      "\u001b[1B29520245: Pulling fs layer \n",
      "\u001b[1B6bb9c19e: Pulling fs layer \n",
      "\u001b[63Bc08065c: Waiting fs layer \n",
      "\u001b[1B517d19bd: Pulling fs layer \n",
      "\u001b[1Bcc81db56: Pulling fs layer \n",
      "\u001b[65B29e9daa: Waiting fs layer \n",
      "\u001b[1B36af415f: Pulling fs layer \n",
      "\u001b[1B4d4ebf9c: Pulling fs layer \n",
      "\u001b[1BDigest: sha256:17edbefc6428c656e0d8ae50e9460d22cb18e37e2b90d6640da4d33c203aacfe\n",
      "Status: Downloaded newer image for nvcr.io/nvidia/tao/tao-toolkit:5.0.0-tf1.15.5\n",
      "nvcr.io/nvidia/tao/tao-toolkit:5.0.0-tf1.15.5\n",
      "5.5.0-deploy: Pulling from nvidia/tao/tao-toolkit\n",
      "\n",
      "\u001b[1B10f490ab: Pulling fs layer \n",
      "\u001b[1B39f449f2: Pulling fs layer \n",
      "\u001b[1Bb700ef54: Pulling fs layer \n",
      "\u001b[1Bef49a25e: Pulling fs layer \n",
      "\u001b[1B2e233b5f: Pulling fs layer \n",
      "\u001b[1Bdf402cf8: Pulling fs layer \n",
      "\u001b[1B2f514559: Pulling fs layer \n",
      "\u001b[1B45ff216e: Pulling fs layer \n",
      "\u001b[1Bce3e6cbf: Pulling fs layer \n",
      "\u001b[1B8e751f33: Pulling fs layer \n",
      "\u001b[2B8e751f33: Waiting fs layer \n",
      "\u001b[1B8ca30619: Pulling fs layer \n",
      "\u001b[1B6324a966: Pulling fs layer \n",
      "\u001b[1B32501ee0: Pulling fs layer \n",
      "\u001b[1B7fa74ef6: Pulling fs layer \n",
      "\u001b[1Be17bc9f9: Pulling fs layer \n",
      "\u001b[1Bba18d815: Pulling fs layer \n",
      "\u001b[1B1a3164e1: Pulling fs layer \n",
      "\u001b[1B98baa5ab: Pulling fs layer \n",
      "\u001b[1B4905e4e6: Pulling fs layer \n",
      "\u001b[1B4b745add: Pulling fs layer \n",
      "\u001b[1Bb252caf9: Pulling fs layer \n",
      "\u001b[1B8e2840ff: Pulling fs layer \n",
      "\u001b[9Be17bc9f9: Waiting fs layer \n",
      "\u001b[9Bba18d815: Waiting fs layer \n",
      "\u001b[9B1a3164e1: Waiting fs layer \n",
      "\u001b[1Bf4594c7a: Pulling fs layer \n",
      "\u001b[17Bca30619: Waiting fs layer \n",
      "\u001b[17B324a966: Waiting fs layer \n",
      "\u001b[12B8baa5ab: Waiting fs layer \n",
      "\u001b[11Bb745add: Waiting fs layer \n",
      "\u001b[11B252caf9: Waiting fs layer \n",
      "\u001b[10B571c5a3: Waiting fs layer \n",
      "\u001b[21B2501ee0: Waiting fs layer \n",
      "\u001b[1Bac394ed3: Pulling fs layer \n",
      "\u001b[1B3a90aeaf: Pulling fs layer \n",
      "\u001b[1B92cb4330: Pulling fs layer \n",
      "\u001b[13Bcd6aacf: Waiting fs layer \n",
      "\u001b[1B743ae970: Pulling fs layer \n",
      "\u001b[14B4594c7a: Waiting fs layer \n",
      "\u001b[1Bc6ae7ba6: Pulling fs layer \n",
      "\u001b[14Bf2dc886: Waiting fs layer \n",
      "\u001b[1B4668f38d: Pulling fs layer \n",
      "\u001b[15B0f3a5c7: Waiting fs layer \n",
      "\u001b[1Be2ec3eb1: Pulling fs layer \n",
      "\u001b[16Bfafcaba: Waiting fs layer \n",
      "\u001b[1B0c7c4109: Pulling fs layer \n",
      "\u001b[1B2c9fed6d: Pulling fs layer \n",
      "\u001b[1B28fb2b91: Pulling fs layer \n",
      "\u001b[1B8a0353cf: Pulling fs layer \n",
      "\u001b[37Bfa74ef6: Waiting fs layer \n",
      "\u001b[1BDigest: sha256:e900a4e81f57352f8a5074992479bf4d8e26504ef70e6faef8597e880a40b721\n",
      "Status: Downloaded newer image for nvcr.io/nvidia/tao/tao-toolkit:5.5.0-deploy\n",
      "nvcr.io/nvidia/tao/tao-toolkit:5.5.0-deploy\n"
     ]
    }
   ],
   "source": [
    "# pull TAO docker container images\n",
    "!docker pull nvcr.io/nvidia/tao/tao-toolkit:5.0.0-tf1.15.5\n",
    "!docker pull nvcr.io/nvidia/tao/tao-toolkit:5.5.0-deploy"
   ]
  },
  {
   "cell_type": "markdown",
   "metadata": {},
   "source": [
    "**Well Done!** If the output includes _\"Login Succeed\"_, then you are ready to begin. Let's move to the [next notebook](./01_disaster_risk_monitoring_systems_and_data_pre-processing.ipynb). "
   ]
  },
  {
   "cell_type": "markdown",
   "metadata": {},
   "source": [
    "<a href=\"https://www.nvidia.com/dli\"> <img src=\"images/combined_logo.png\" alt=\"Header\" style=\"width: 400px;\"/> </a>"
   ]
  }
 ],
 "metadata": {
  "kernelspec": {
   "display_name": "Python 3 (ipykernel)",
   "language": "python",
   "name": "python3"
  },
  "language_info": {
   "codemirror_mode": {
    "name": "ipython",
    "version": 3
   },
   "file_extension": ".py",
   "mimetype": "text/x-python",
   "name": "python",
   "nbconvert_exporter": "python",
   "pygments_lexer": "ipython3",
   "version": "3.10.12"
  }
 },
 "nbformat": 4,
 "nbformat_minor": 4
}
